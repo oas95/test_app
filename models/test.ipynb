{
 "cells": [
  {
   "cell_type": "code",
   "execution_count": 5,
   "metadata": {},
   "outputs": [],
   "source": [
    "import pandas as pd\n",
    "from sklearn.preprocessing import LabelEncoder, OneHotEncoder\n",
    "from sklearn.compose import ColumnTransformer\n",
    "from sklearn.base import BaseEstimator, TransformerMixin\n",
    "from xgboost import XGBRegressor\n",
    "import itertools\n",
    "import joblib\n",
    "\n",
    "from sklearn.utils.class_weight import compute_class_weight\n"
   ]
  },
  {
   "cell_type": "code",
   "execution_count": 7,
   "metadata": {},
   "outputs": [
    {
     "name": "stdout",
     "output_type": "stream",
     "text": [
      "               Rider        Bull  Predicted Score\n",
      "0    Jose Vitor Leme  Blood Moon        87.567245\n",
      "1    Jose Vitor Leme  Ivy League        87.331024\n",
      "2  Austin Richardson  Blood Moon        85.473808\n",
      "3  Austin Richardson  Ivy League        85.473808\n"
     ]
    }
   ],
   "source": [
    "\n",
    "\n",
    "class LabelEncoderWrapper(BaseEstimator, TransformerMixin):\n",
    "    def __init__(self):\n",
    "        self.label_encoder = LabelEncoder()\n",
    "\n",
    "    def fit(self, X, y=None):\n",
    "        self.label_encoder.fit(X.squeeze())  # Squeeze the input X to handle a single-column DataFrame\n",
    "        return self\n",
    "\n",
    "    def transform(self, X, y=None):\n",
    "        return self.label_encoder.transform(X.squeeze()).reshape(-1, 1)  # Squeeze and reshape the output\n",
    "\n",
    "df = pd.read_csv('../Resources/finalv1.csv')\n",
    "\n",
    "# Filter out the zero scores\n",
    "df_non_zero = df[df['score'] != 0]\n",
    "\n",
    "# Define the features and the target\n",
    "X = df_non_zero[['rider', 'bull', 'vsleft_perc', 'vsright_perc',\n",
    "       'vsavg_bull_power', 'hand', 'high_score', 'time', 'round', 'bull_power_rating', 'bullscore', 'buckoff_perc_vs_rh_riders',\n",
    "       'buckoff_perc_vs_lh_riders']]\n",
    "y = df_non_zero['score']\n",
    "\n",
    "# Get the unique class labels\n",
    "classes = df_non_zero['score'].unique()\n",
    "\n",
    "# Compute class weights\n",
    "class_weights = compute_class_weight('balanced', classes=classes, y=y)\n",
    "\n",
    "preprocessor = ColumnTransformer(\n",
    "    transformers=[\n",
    "        ('cat', OneHotEncoder(handle_unknown='ignore'), ['rider']),\n",
    "        ('num', LabelEncoderWrapper(), ['bull'])\n",
    "    ])\n",
    "\n",
    "# Preprocess the data\n",
    "X_preprocessed = preprocessor.fit_transform(X)\n",
    "\n",
    "# Train the XGBoost regressor with class weighting\n",
    "model = XGBRegressor(objective='reg:squarederror', eval_metric='rmse', scale_pos_weight=(1 / class_weights[1]))\n",
    "model.fit(X_preprocessed, y)\n",
    "\n",
    "# Get user input for the riders and bulls\n",
    "riders = [input(\"Enter rider {}: \".format(i+1)) for i in range(2)]\n",
    "bulls = [input(\"Enter bull {}: \".format(i+1)) for i in range(2)]\n",
    "\n",
    "# Generate unique combinations of riders and bulls\n",
    "combinations = list(itertools.product(riders, bulls))\n",
    "unique_combinations = list(set(combinations))\n",
    "\n",
    "# Prepare the data for prediction\n",
    "new_data = pd.DataFrame(unique_combinations, columns=['rider', 'bull'])\n",
    "\n",
    "# Apply the same preprocessing to the new data\n",
    "new_data_preprocessed = preprocessor.transform(new_data)\n",
    "\n",
    "# Make predictions for the new data\n",
    "predictions = model.predict(new_data_preprocessed)\n",
    "\n",
    "# Create a result DataFrame\n",
    "result_df = pd.DataFrame(unique_combinations, columns=['Rider', 'Bull'])\n",
    "result_df['Predicted Score'] = predictions\n",
    "result_df = result_df.sort_values(by='Predicted Score', ascending=False).reset_index(drop=True)\n",
    "\n",
    "# Save the preprocessor and model\n",
    "with open('preprocessor.pkl', 'wb') as f:\n",
    "    joblib.dump(preprocessor, f)\n",
    "\n",
    "with open('model.pkl', 'wb') as f:\n",
    "    joblib.dump(model, f)\n",
    "\n",
    "# Display the result\n",
    "print(result_df)"
   ]
  },
  {
   "cell_type": "code",
   "execution_count": null,
   "metadata": {},
   "outputs": [],
   "source": []
  }
 ],
 "metadata": {
  "kernelspec": {
   "display_name": "tensorflowEv",
   "language": "python",
   "name": "python3"
  },
  "language_info": {
   "codemirror_mode": {
    "name": "ipython",
    "version": 3
   },
   "file_extension": ".py",
   "mimetype": "text/x-python",
   "name": "python",
   "nbconvert_exporter": "python",
   "pygments_lexer": "ipython3",
   "version": "3.10.10"
  },
  "orig_nbformat": 4
 },
 "nbformat": 4,
 "nbformat_minor": 2
}
